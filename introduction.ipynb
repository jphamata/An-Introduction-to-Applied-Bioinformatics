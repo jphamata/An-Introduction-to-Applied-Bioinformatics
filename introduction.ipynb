{
 "cells": [
  {
   "cell_type": "code",
   "execution_count": 1,
   "metadata": {},
   "outputs": [],
   "source": [
    "import skbio"
   ]
  },
  {
   "cell_type": "code",
   "execution_count": 2,
   "metadata": {},
   "outputs": [
    {
     "name": "stdout",
     "output_type": "stream",
     "text": [
      "\n",
      "*                                                    *\n",
      "               _ _    _ _          _     _\n",
      "              (_) |  (_) |        | |   (_)\n",
      "      ___  ___ _| | ___| |_ ______| |__  _  ___\n",
      "     / __|/ __| | |/ / | __|______| '_ \\| |/ _ \\\n",
      "     \\__ \\ (__| |   <| | |_       | |_) | | (_) |\n",
      "     |___/\\___|_|_|\\_\\_|\\__|      |_.__/|_|\\___/\n",
      "\n",
      "*                                                    *\n",
      "\n",
      "\n",
      "\n",
      "           Opisthokonta\n",
      "                   \\  Amoebozoa\n",
      "                    \\ /\n",
      "                     *    Euryarchaeota\n",
      "                      \\     |_ Crenarchaeota\n",
      "                       \\   *\n",
      "                        \\ /\n",
      "                         *\n",
      "                        /\n",
      "                       /\n",
      "                      /\n",
      "                     *\n",
      "                    / \\\n",
      "                   /   \\\n",
      "        Proteobacteria  \\\n",
      "                       Cyanobacteria\n",
      "\n"
     ]
    }
   ],
   "source": [
    "print(skbio.title)\n",
    "print(skbio.art)"
   ]
  }
 ],
 "metadata": {
  "kernelspec": {
   "display_name": "Python 3",
   "language": "python",
   "name": "python3"
  },
  "language_info": {
   "codemirror_mode": {
    "name": "ipython",
    "version": 3
   },
   "file_extension": ".py",
   "mimetype": "text/x-python",
   "name": "python",
   "nbconvert_exporter": "python",
   "pygments_lexer": "ipython3",
   "version": "3.12.3"
  }
 },
 "nbformat": 4,
 "nbformat_minor": 2
}
